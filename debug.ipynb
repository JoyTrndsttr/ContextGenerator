{
 "cells": [
  {
   "cell_type": "code",
   "execution_count": null,
   "metadata": {},
   "outputs": [
    {
     "name": "stdout",
     "output_type": "stream",
     "text": [
      "12\n",
      "{'hyperledger/indy-node', 'Blazemeter/taurus', 'psf/requests', 'spotify/luigi', 'open-mmlab/mmdetection', 'mozilla/pontoon', 'spesmilo/electrum', 'cython/cython', 'qutebrowser/qutebrowser', 'biopython/biopython', 'google/clusterfuzz', 'dmlc/dgl'}\n"
     ]
    }
   ],
   "source": [
    "import json\n",
    "with open('/mnt/ssd2/wangke/dataset/datasets.json', 'r') as f:\n",
    "    #按行读取数据集\n",
    "    records = [json.loads(line) for line in f]\n",
    "    #获取不重复的record[\"repo\"]\n",
    "    repos = set([record[\"repo\"] for record in records])\n",
    "    print(len(repos))\n",
    "    print(repos)"
   ]
  },
  {
   "cell_type": "code",
   "execution_count": 24,
   "metadata": {},
   "outputs": [
    {
     "name": "stdout",
     "output_type": "stream",
     "text": [
      "GitHub API 剩余请求次数: 5000\n",
      "API 限制重置时间 (UTC): 1742132109\n"
     ]
    }
   ],
   "source": [
    "import requests\n",
    "import json\n",
    "GITHUB_TOKEN = json.load(open(\"/home/wangke/model/ContextGenerator/settings.json\", encoding='utf-8'))[\"github_tokens\"][0]\n",
    "def check_github_rate_limit():\n",
    "    url = \"https://api.github.com/rate_limit\"\n",
    "    headers = {'Authorization': f'token {GITHUB_TOKEN}'}\n",
    "    response = requests.get(url, headers=headers)\n",
    "    if response.status_code == 200:\n",
    "        data = response.json()\n",
    "        remaining = data[\"rate\"][\"remaining\"]\n",
    "        reset_time = data[\"rate\"][\"reset\"]  # Unix 时间戳\n",
    "        print(f\"GitHub API 剩余请求次数: {remaining}\")\n",
    "        print(f\"API 限制重置时间 (UTC): {reset_time}\")\n",
    "    else:\n",
    "        print(f\"请求失败，状态码: {response.status_code}\")\n",
    "\n",
    "if __name__ == \"__main__\":\n",
    "    check_github_rate_limit()"
   ]
  },
  {
   "cell_type": "code",
   "execution_count": 22,
   "metadata": {},
   "outputs": [
    {
     "data": {
      "text/plain": [
       "'```\\n             msg_aggregator=self.msg_aggregator,\\n         )\\n-    def _initialize_uniswap(self, premium: Optional[Premium]) -> None:\\n-        self.eth_modules[\\'uniswap\\'] = Uniswap(\\n-            ethereum_manager=self.ethereum,\\n-            database=self.database,\\n-            premium=premium,\\n-            msg_aggregator=self.msg_aggregator,\\n-        )\\n \\n     def get_zerion(self) -> Zerion:\\n         \"\"\"Returns the initialized zerion. If it\\'s not ready it waits for 5 seconds\\n         and then times out. This should really never happen\\n```'"
      ]
     },
     "execution_count": 22,
     "metadata": {},
     "output_type": "execute_result"
    }
   ],
   "source": [
    "str_lines = [\n",
    "    \"```\",\n",
    "    \"             msg_aggregator=self.msg_aggregator,\",\n",
    "    \"         )\",\n",
    "    \"-    def _initialize_uniswap(self, premium: Optional[Premium]) -> None:\",\n",
    "    \"-        self.eth_modules['uniswap'] = Uniswap(\",\n",
    "    \"-            ethereum_manager=self.ethereum,\",\n",
    "    \"-            database=self.database,\",\n",
    "    \"-            premium=premium,\",\n",
    "    \"-            msg_aggregator=self.msg_aggregator,\",\n",
    "    \"-        )\",\n",
    "    \" \",\n",
    "    \"     def get_zerion(self) -> Zerion:\",\n",
    "    \"         \\\"\\\"\\\"Returns the initialized zerion. If it's not ready it waits for 5 seconds\",\n",
    "    \"         and then times out. This should really never happen\",\n",
    "    \"```\",\n",
    "]\n",
    "# str = \"```\\n  msg_aggregator=self.msg_aggregator        )-    def _initialize_uniswap(self premium: Optional[Premium]) -> None:-        self.eth_modules[‘uniswap’] = Uniswap(-            ethereum_manager=self.ethereum-            database=self.database-            premium=premium-            msg_aggregator=self.msg_aggregator-        )      def get_zerion(self) -> Zerion:         \\\\\\\\Returns the initialized zerion. If it's not ready it waits for 5 seconds         and then times out. This should really never happen```\"\n",
    "# str_lines = str.split('\\n')\n",
    "old_lines = []\n",
    "new_lines = []\n",
    "for line in str_lines:\n",
    "    if line.startswith(\"-\"):\n",
    "        old_lines.append(line)\n",
    "    elif line.startswith(\"+\"):\n",
    "        new_lines.append(line)\n",
    "    else:\n",
    "        old_lines.append(line)\n",
    "        new_lines.append(line)\n",
    "str = '\\n'.join(str_lines)\n",
    "old = '\\n'.join(old_lines)\n",
    "new = '\\n'.join(new_lines)\n",
    "old"
   ]
  }
 ],
 "metadata": {
  "kernelspec": {
   "display_name": "alpaca-lora",
   "language": "python",
   "name": "python3"
  },
  "language_info": {
   "codemirror_mode": {
    "name": "ipython",
    "version": 3
   },
   "file_extension": ".py",
   "mimetype": "text/x-python",
   "name": "python",
   "nbconvert_exporter": "python",
   "pygments_lexer": "ipython3",
   "version": "3.10.9"
  }
 },
 "nbformat": 4,
 "nbformat_minor": 2
}
